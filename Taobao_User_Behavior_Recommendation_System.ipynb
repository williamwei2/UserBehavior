{
  "nbformat": 4,
  "nbformat_minor": 0,
  "metadata": {
    "kernelspec": {
      "display_name": "Python 3",
      "language": "python",
      "name": "python3"
    },
    "language_info": {
      "codemirror_mode": {
        "name": "ipython",
        "version": 3
      },
      "file_extension": ".py",
      "mimetype": "text/x-python",
      "name": "python",
      "nbconvert_exporter": "python",
      "pygments_lexer": "ipython3",
      "version": "3.7.4"
    },
    "colab": {
      "name": "Taobao_User_Behavior_Recommendation System.ipynb",
      "provenance": [],
      "collapsed_sections": [],
      "toc_visible": true,
      "machine_shape": "hm",
      "include_colab_link": true
    }
  },
  "cells": [
    {
      "cell_type": "markdown",
      "metadata": {
        "id": "view-in-github",
        "colab_type": "text"
      },
      "source": [
        "<a href=\"https://colab.research.google.com/github/williamwei2/UserBehavior/blob/master/Taobao_User_Behavior_Recommendation_System.ipynb\" target=\"_parent\"><img src=\"https://colab.research.google.com/assets/colab-badge.svg\" alt=\"Open In Colab\"/></a>"
      ]
    },
    {
      "cell_type": "markdown",
      "metadata": {
        "id": "nDrSQXv_r_hO",
        "colab_type": "text"
      },
      "source": [
        "**淘宝用户数据推荐系统研究** Recommendation System\n",
        "<table align=\"left\"><td>\n",
        "  <a target=\"_blank\"  href=\"https://colab.research.google.com/github/TannerGilbert/Tutorials/blob/master/Recommendation%20System/Recommendation%20System.ipynb\">\n",
        "    <img src=\"https://www.tensorflow.org/images/colab_logo_32px.png\" />Run in Google Colab\n",
        "  </a>\n",
        "</td><td>\n",
        "  <a target=\"_blank\"  href=\"https://github.com/TannerGilbert/Tutorials/blob/master/Recommendation%20System/Recommendation%20System.ipynb\">\n",
        "    <img width=32px src=\"https://www.tensorflow.org/images/GitHub-Mark-32px.png\" />View source on GitHub</a>\n",
        "</td></table>"
      ]
    },
    {
      "cell_type": "markdown",
      "metadata": {
        "id": "rYUqLEfir_hl",
        "colab_type": "text"
      },
      "source": [
        "A recommendation system seeks to predict the rating or preference a user would give to an item given his old item ratings or preferences. Recommendation systems are used by pretty much every major company in order to enhance the quality of their services."
      ]
    },
    {
      "cell_type": "code",
      "metadata": {
        "id": "foOSMMmJSAuc",
        "colab_type": "code",
        "outputId": "8f6a1fe0-1bf0-4144-d6aa-225f10faf211",
        "colab": {
          "base_uri": "https://localhost:8080/",
          "height": 35
        }
      },
      "source": [
        "%tensorflow_version 2.x"
      ],
      "execution_count": 2,
      "outputs": [
        {
          "output_type": "stream",
          "text": [
            "TensorFlow 2.x selected.\n"
          ],
          "name": "stdout"
        }
      ]
    },
    {
      "cell_type": "code",
      "metadata": {
        "id": "ZnzfU1Hxr_iE",
        "colab_type": "code",
        "colab": {
          "base_uri": "https://localhost:8080/",
          "height": 35
        },
        "outputId": "f383dd9c-d763-45e8-f592-12231b9b5204"
      },
      "source": [
        "import numpy as np\n",
        "import pandas as pd\n",
        "import matplotlib.pyplot as plt\n",
        "import os\n",
        "import warnings\n",
        "\n",
        "from keras.layers import Input, Embedding, Flatten, Dot, Dense, Concatenate\n",
        "from keras.models import Model\n",
        "\n",
        "warnings.filterwarnings('ignore')\n",
        "%matplotlib inline"
      ],
      "execution_count": 3,
      "outputs": [
        {
          "output_type": "stream",
          "text": [
            "Using TensorFlow backend.\n"
          ],
          "name": "stderr"
        }
      ]
    },
    {
      "cell_type": "markdown",
      "metadata": {
        "id": "WtAi_ejrr_i1",
        "colab_type": "text"
      },
      "source": [
        "## Loading in data"
      ]
    },
    {
      "cell_type": "code",
      "metadata": {
        "id": "trtMUEz8otLe",
        "colab_type": "code",
        "outputId": "136e1239-d1f3-47ac-ee2d-ac181edcc6a3",
        "colab": {
          "base_uri": "https://localhost:8080/",
          "height": 35
        }
      },
      "source": [
        "from google.colab import drive\n",
        "drive.mount('/content/drive')"
      ],
      "execution_count": 4,
      "outputs": [
        {
          "output_type": "stream",
          "text": [
            "Drive already mounted at /content/drive; to attempt to forcibly remount, call drive.mount(\"/content/drive\", force_remount=True).\n"
          ],
          "name": "stdout"
        }
      ]
    },
    {
      "cell_type": "code",
      "metadata": {
        "colab_type": "code",
        "cellView": "both",
        "id": "DX08EumaAJyu",
        "colab": {}
      },
      "source": [
        "#dataset = pd.read_csv(\"/content/drive/My Drive/Colab Notebooks/goodbooks-10k/ratings.csv\",sep=',')"
      ],
      "execution_count": 0,
      "outputs": []
    },
    {
      "cell_type": "code",
      "metadata": {
        "id": "Ln3-QPM_zvSI",
        "colab_type": "code",
        "colab": {}
      },
      "source": [
        "#dataset = pd.read_csv(\"https://raw.githubusercontent.com/TannerGilbert/Tutorials/master/Recommendation%20System/ratings.csv\",thousands=',')"
      ],
      "execution_count": 0,
      "outputs": []
    },
    {
      "cell_type": "markdown",
      "metadata": {
        "id": "KHHYQjnaLk3u",
        "colab_type": "text"
      },
      "source": [
        "读取UserBehavior 数据（亿级）"
      ]
    },
    {
      "cell_type": "code",
      "metadata": {
        "id": "H1vrPAW_K0NM",
        "colab_type": "code",
        "colab": {}
      },
      "source": [
        "dataset = pd.read_csv(\"/content/drive/My Drive/Colab Notebooks/TAOBAO_user_behavior_dataset/UserBehavior.csv\",sep=',',header=None,names=['userid','itemid','categoryid','behavior','timestamp'])"
      ],
      "execution_count": 0,
      "outputs": []
    },
    {
      "cell_type": "code",
      "metadata": {
        "id": "HgkcooTQFNr-",
        "colab_type": "code",
        "colab": {}
      },
      "source": [
        "#dataset.drop('categoryid',axis=1,inplace=True)"
      ],
      "execution_count": 0,
      "outputs": []
    },
    {
      "cell_type": "code",
      "metadata": {
        "id": "C9XsWa1ZF4rv",
        "colab_type": "code",
        "colab": {}
      },
      "source": [
        "#dataset.drop('timestamp',axis=1,inplace=True)"
      ],
      "execution_count": 0,
      "outputs": []
    },
    {
      "cell_type": "code",
      "metadata": {
        "id": "j0cyRi-GSKOy",
        "colab_type": "code",
        "colab": {
          "base_uri": "https://localhost:8080/",
          "height": 204
        },
        "outputId": "ff99027c-e32e-4e29-caae-32ad2ac33860"
      },
      "source": [
        "dataset.head()"
      ],
      "execution_count": 10,
      "outputs": [
        {
          "output_type": "execute_result",
          "data": {
            "text/html": [
              "<div>\n",
              "<style scoped>\n",
              "    .dataframe tbody tr th:only-of-type {\n",
              "        vertical-align: middle;\n",
              "    }\n",
              "\n",
              "    .dataframe tbody tr th {\n",
              "        vertical-align: top;\n",
              "    }\n",
              "\n",
              "    .dataframe thead th {\n",
              "        text-align: right;\n",
              "    }\n",
              "</style>\n",
              "<table border=\"1\" class=\"dataframe\">\n",
              "  <thead>\n",
              "    <tr style=\"text-align: right;\">\n",
              "      <th></th>\n",
              "      <th>userid</th>\n",
              "      <th>itemid</th>\n",
              "      <th>categoryid</th>\n",
              "      <th>behavior</th>\n",
              "      <th>timestamp</th>\n",
              "    </tr>\n",
              "  </thead>\n",
              "  <tbody>\n",
              "    <tr>\n",
              "      <th>0</th>\n",
              "      <td>1</td>\n",
              "      <td>2268318</td>\n",
              "      <td>2520377</td>\n",
              "      <td>pv</td>\n",
              "      <td>1511544070</td>\n",
              "    </tr>\n",
              "    <tr>\n",
              "      <th>1</th>\n",
              "      <td>1</td>\n",
              "      <td>2333346</td>\n",
              "      <td>2520771</td>\n",
              "      <td>pv</td>\n",
              "      <td>1511561733</td>\n",
              "    </tr>\n",
              "    <tr>\n",
              "      <th>2</th>\n",
              "      <td>1</td>\n",
              "      <td>2576651</td>\n",
              "      <td>149192</td>\n",
              "      <td>pv</td>\n",
              "      <td>1511572885</td>\n",
              "    </tr>\n",
              "    <tr>\n",
              "      <th>3</th>\n",
              "      <td>1</td>\n",
              "      <td>3830808</td>\n",
              "      <td>4181361</td>\n",
              "      <td>pv</td>\n",
              "      <td>1511593493</td>\n",
              "    </tr>\n",
              "    <tr>\n",
              "      <th>4</th>\n",
              "      <td>1</td>\n",
              "      <td>4365585</td>\n",
              "      <td>2520377</td>\n",
              "      <td>pv</td>\n",
              "      <td>1511596146</td>\n",
              "    </tr>\n",
              "  </tbody>\n",
              "</table>\n",
              "</div>"
            ],
            "text/plain": [
              "   userid   itemid  categoryid behavior   timestamp\n",
              "0       1  2268318     2520377       pv  1511544070\n",
              "1       1  2333346     2520771       pv  1511561733\n",
              "2       1  2576651      149192       pv  1511572885\n",
              "3       1  3830808     4181361       pv  1511593493\n",
              "4       1  4365585     2520377       pv  1511596146"
            ]
          },
          "metadata": {
            "tags": []
          },
          "execution_count": 10
        }
      ]
    },
    {
      "cell_type": "code",
      "metadata": {
        "id": "MOYCHVD8GC5K",
        "colab_type": "code",
        "colab": {}
      },
      "source": [
        "dataset['behavior'].replace({'pv':1,'cart':2,'fav':3,'buy':4},inplace=True)"
      ],
      "execution_count": 0,
      "outputs": []
    },
    {
      "cell_type": "code",
      "metadata": {
        "id": "JDlLQbL_xo_B",
        "colab_type": "code",
        "colab": {}
      },
      "source": [
        "dataset.drop(dataset[(dataset.userid>100)&(dataset.itemid>100)].index, inplace=True)"
      ],
      "execution_count": 0,
      "outputs": []
    },
    {
      "cell_type": "code",
      "metadata": {
        "id": "er6rtkbFr_kh",
        "colab_type": "code",
        "colab": {
          "base_uri": "https://localhost:8080/",
          "height": 204
        },
        "outputId": "594e7270-c74c-4e29-e8af-500f73a712ce"
      },
      "source": [
        "dataset.head()"
      ],
      "execution_count": 13,
      "outputs": [
        {
          "output_type": "execute_result",
          "data": {
            "text/html": [
              "<div>\n",
              "<style scoped>\n",
              "    .dataframe tbody tr th:only-of-type {\n",
              "        vertical-align: middle;\n",
              "    }\n",
              "\n",
              "    .dataframe tbody tr th {\n",
              "        vertical-align: top;\n",
              "    }\n",
              "\n",
              "    .dataframe thead th {\n",
              "        text-align: right;\n",
              "    }\n",
              "</style>\n",
              "<table border=\"1\" class=\"dataframe\">\n",
              "  <thead>\n",
              "    <tr style=\"text-align: right;\">\n",
              "      <th></th>\n",
              "      <th>userid</th>\n",
              "      <th>itemid</th>\n",
              "      <th>categoryid</th>\n",
              "      <th>behavior</th>\n",
              "      <th>timestamp</th>\n",
              "    </tr>\n",
              "  </thead>\n",
              "  <tbody>\n",
              "    <tr>\n",
              "      <th>0</th>\n",
              "      <td>1</td>\n",
              "      <td>2268318</td>\n",
              "      <td>2520377</td>\n",
              "      <td>1</td>\n",
              "      <td>1511544070</td>\n",
              "    </tr>\n",
              "    <tr>\n",
              "      <th>1</th>\n",
              "      <td>1</td>\n",
              "      <td>2333346</td>\n",
              "      <td>2520771</td>\n",
              "      <td>1</td>\n",
              "      <td>1511561733</td>\n",
              "    </tr>\n",
              "    <tr>\n",
              "      <th>2</th>\n",
              "      <td>1</td>\n",
              "      <td>2576651</td>\n",
              "      <td>149192</td>\n",
              "      <td>1</td>\n",
              "      <td>1511572885</td>\n",
              "    </tr>\n",
              "    <tr>\n",
              "      <th>3</th>\n",
              "      <td>1</td>\n",
              "      <td>3830808</td>\n",
              "      <td>4181361</td>\n",
              "      <td>1</td>\n",
              "      <td>1511593493</td>\n",
              "    </tr>\n",
              "    <tr>\n",
              "      <th>4</th>\n",
              "      <td>1</td>\n",
              "      <td>4365585</td>\n",
              "      <td>2520377</td>\n",
              "      <td>1</td>\n",
              "      <td>1511596146</td>\n",
              "    </tr>\n",
              "  </tbody>\n",
              "</table>\n",
              "</div>"
            ],
            "text/plain": [
              "   userid   itemid  categoryid  behavior   timestamp\n",
              "0       1  2268318     2520377         1  1511544070\n",
              "1       1  2333346     2520771         1  1511561733\n",
              "2       1  2576651      149192         1  1511572885\n",
              "3       1  3830808     4181361         1  1511593493\n",
              "4       1  4365585     2520377         1  1511596146"
            ]
          },
          "metadata": {
            "tags": []
          },
          "execution_count": 13
        }
      ]
    },
    {
      "cell_type": "code",
      "metadata": {
        "id": "BFk9FLuOr_lM",
        "colab_type": "code",
        "colab": {
          "base_uri": "https://localhost:8080/",
          "height": 35
        },
        "outputId": "caa5ecc5-755c-4158-cc80-6977c7644b76"
      },
      "source": [
        "dataset.shape"
      ],
      "execution_count": 14,
      "outputs": [
        {
          "output_type": "execute_result",
          "data": {
            "text/plain": [
              "(10947, 5)"
            ]
          },
          "metadata": {
            "tags": []
          },
          "execution_count": 14
        }
      ]
    },
    {
      "cell_type": "code",
      "metadata": {
        "id": "DbLUvzqfr_m9",
        "colab_type": "code",
        "colab": {}
      },
      "source": [
        "from sklearn.model_selection import train_test_split\n",
        "train, test = train_test_split(dataset, test_size=0.2, random_state=42)"
      ],
      "execution_count": 0,
      "outputs": []
    },
    {
      "cell_type": "code",
      "metadata": {
        "id": "_Mk0tA38r_o9",
        "colab_type": "code",
        "colab": {
          "base_uri": "https://localhost:8080/",
          "height": 204
        },
        "outputId": "92a51d91-26f9-4c71-9a3c-be57784f98cf"
      },
      "source": [
        "train.head()"
      ],
      "execution_count": 16,
      "outputs": [
        {
          "output_type": "execute_result",
          "data": {
            "text/html": [
              "<div>\n",
              "<style scoped>\n",
              "    .dataframe tbody tr th:only-of-type {\n",
              "        vertical-align: middle;\n",
              "    }\n",
              "\n",
              "    .dataframe tbody tr th {\n",
              "        vertical-align: top;\n",
              "    }\n",
              "\n",
              "    .dataframe thead th {\n",
              "        text-align: right;\n",
              "    }\n",
              "</style>\n",
              "<table border=\"1\" class=\"dataframe\">\n",
              "  <thead>\n",
              "    <tr style=\"text-align: right;\">\n",
              "      <th></th>\n",
              "      <th>userid</th>\n",
              "      <th>itemid</th>\n",
              "      <th>categoryid</th>\n",
              "      <th>behavior</th>\n",
              "      <th>timestamp</th>\n",
              "    </tr>\n",
              "  </thead>\n",
              "  <tbody>\n",
              "    <tr>\n",
              "      <th>84665219</th>\n",
              "      <td>29</td>\n",
              "      <td>569369</td>\n",
              "      <td>1879194</td>\n",
              "      <td>1</td>\n",
              "      <td>1512307921</td>\n",
              "    </tr>\n",
              "    <tr>\n",
              "      <th>97052921</th>\n",
              "      <td>86</td>\n",
              "      <td>4419569</td>\n",
              "      <td>1528701</td>\n",
              "      <td>1</td>\n",
              "      <td>1512178159</td>\n",
              "    </tr>\n",
              "    <tr>\n",
              "      <th>50878223</th>\n",
              "      <td>58</td>\n",
              "      <td>802546</td>\n",
              "      <td>4882154</td>\n",
              "      <td>1</td>\n",
              "      <td>1512112435</td>\n",
              "    </tr>\n",
              "    <tr>\n",
              "      <th>87990232</th>\n",
              "      <td>44</td>\n",
              "      <td>4808632</td>\n",
              "      <td>2217187</td>\n",
              "      <td>1</td>\n",
              "      <td>1511681260</td>\n",
              "    </tr>\n",
              "    <tr>\n",
              "      <th>94260883</th>\n",
              "      <td>73</td>\n",
              "      <td>3709994</td>\n",
              "      <td>2096639</td>\n",
              "      <td>1</td>\n",
              "      <td>1511670506</td>\n",
              "    </tr>\n",
              "  </tbody>\n",
              "</table>\n",
              "</div>"
            ],
            "text/plain": [
              "          userid   itemid  categoryid  behavior   timestamp\n",
              "84665219      29   569369     1879194         1  1512307921\n",
              "97052921      86  4419569     1528701         1  1512178159\n",
              "50878223      58   802546     4882154         1  1512112435\n",
              "87990232      44  4808632     2217187         1  1511681260\n",
              "94260883      73  3709994     2096639         1  1511670506"
            ]
          },
          "metadata": {
            "tags": []
          },
          "execution_count": 16
        }
      ]
    },
    {
      "cell_type": "code",
      "metadata": {
        "id": "99ZextGTr_qC",
        "colab_type": "code",
        "colab": {
          "base_uri": "https://localhost:8080/",
          "height": 204
        },
        "outputId": "3caf0eca-265e-4d36-e41a-280fa7bd319b"
      },
      "source": [
        "test.head()"
      ],
      "execution_count": 17,
      "outputs": [
        {
          "output_type": "execute_result",
          "data": {
            "text/html": [
              "<div>\n",
              "<style scoped>\n",
              "    .dataframe tbody tr th:only-of-type {\n",
              "        vertical-align: middle;\n",
              "    }\n",
              "\n",
              "    .dataframe tbody tr th {\n",
              "        vertical-align: top;\n",
              "    }\n",
              "\n",
              "    .dataframe thead th {\n",
              "        text-align: right;\n",
              "    }\n",
              "</style>\n",
              "<table border=\"1\" class=\"dataframe\">\n",
              "  <thead>\n",
              "    <tr style=\"text-align: right;\">\n",
              "      <th></th>\n",
              "      <th>userid</th>\n",
              "      <th>itemid</th>\n",
              "      <th>categoryid</th>\n",
              "      <th>behavior</th>\n",
              "      <th>timestamp</th>\n",
              "    </tr>\n",
              "  </thead>\n",
              "  <tbody>\n",
              "    <tr>\n",
              "      <th>17770020</th>\n",
              "      <td>90</td>\n",
              "      <td>3639754</td>\n",
              "      <td>2247787</td>\n",
              "      <td>1</td>\n",
              "      <td>1511971870</td>\n",
              "    </tr>\n",
              "    <tr>\n",
              "      <th>91711409</th>\n",
              "      <td>61</td>\n",
              "      <td>312793</td>\n",
              "      <td>4882154</td>\n",
              "      <td>2</td>\n",
              "      <td>1512295579</td>\n",
              "    </tr>\n",
              "    <tr>\n",
              "      <th>98262182</th>\n",
              "      <td>914544</td>\n",
              "      <td>81</td>\n",
              "      <td>4756105</td>\n",
              "      <td>1</td>\n",
              "      <td>1511692342</td>\n",
              "    </tr>\n",
              "    <tr>\n",
              "      <th>38827059</th>\n",
              "      <td>95</td>\n",
              "      <td>941139</td>\n",
              "      <td>965809</td>\n",
              "      <td>1</td>\n",
              "      <td>1511961161</td>\n",
              "    </tr>\n",
              "    <tr>\n",
              "      <th>26900784</th>\n",
              "      <td>4</td>\n",
              "      <td>3019619</td>\n",
              "      <td>4801426</td>\n",
              "      <td>1</td>\n",
              "      <td>1511946525</td>\n",
              "    </tr>\n",
              "  </tbody>\n",
              "</table>\n",
              "</div>"
            ],
            "text/plain": [
              "          userid   itemid  categoryid  behavior   timestamp\n",
              "17770020      90  3639754     2247787         1  1511971870\n",
              "91711409      61   312793     4882154         2  1512295579\n",
              "98262182  914544       81     4756105         1  1511692342\n",
              "38827059      95   941139      965809         1  1511961161\n",
              "26900784       4  3019619     4801426         1  1511946525"
            ]
          },
          "metadata": {
            "tags": []
          },
          "execution_count": 17
        }
      ]
    },
    {
      "cell_type": "code",
      "metadata": {
        "id": "eJu2_j3Kr_qi",
        "colab_type": "code",
        "colab": {
          "base_uri": "https://localhost:8080/",
          "height": 35
        },
        "outputId": "89be68a4-0526-40c0-d1fd-97746c6dab24"
      },
      "source": [
        "n_users = len(dataset.userid.unique())\n",
        "n_users"
      ],
      "execution_count": 18,
      "outputs": [
        {
          "output_type": "execute_result",
          "data": {
            "text/plain": [
              "1160"
            ]
          },
          "metadata": {
            "tags": []
          },
          "execution_count": 18
        }
      ]
    },
    {
      "cell_type": "code",
      "metadata": {
        "id": "uwG7VIrMr_rb",
        "colab_type": "code",
        "colab": {
          "base_uri": "https://localhost:8080/",
          "height": 35
        },
        "outputId": "ae38ac6d-2684-4afd-fb64-86b1f166f69a"
      },
      "source": [
        "n_items = len(dataset.itemid.unique())\n",
        "n_items"
      ],
      "execution_count": 19,
      "outputs": [
        {
          "output_type": "execute_result",
          "data": {
            "text/plain": [
              "7106"
            ]
          },
          "metadata": {
            "tags": []
          },
          "execution_count": 19
        }
      ]
    },
    {
      "cell_type": "code",
      "metadata": {
        "id": "JkxlpQ7fTODF",
        "colab_type": "code",
        "colab": {}
      },
      "source": [
        "import tensorflow as tf"
      ],
      "execution_count": 0,
      "outputs": []
    },
    {
      "cell_type": "code",
      "metadata": {
        "id": "DEo1Ol3XeZly",
        "colab_type": "code",
        "colab": {}
      },
      "source": [
        "vocabsize=10000000"
      ],
      "execution_count": 0,
      "outputs": []
    },
    {
      "cell_type": "markdown",
      "metadata": {
        "id": "n1uR17rdr_s0",
        "colab_type": "text"
      },
      "source": [
        "## Creating dot product model\n",
        "Most recommendation systems are build using a simple dot product as shown below but newer ones are now implementing a neural network instead of the simple dot product."
      ]
    },
    {
      "cell_type": "code",
      "metadata": {
        "id": "1pN8RJl4r_s9",
        "colab_type": "code",
        "colab": {}
      },
      "source": [
        "# creating book embedding path\n",
        "#item_input = tf.keras.Input(shape=[1],name=\"Item-Input\")\n",
        "#item_embedding = tf.keras.layers.Embedding(vocabsize+1,4, name=\"Item-Embedding\")(item_input)\n",
        "#item_vec = tf.keras.layers.Flatten(name=\"Flatten-Items\")(item_embedding)\n",
        "\n",
        "# creating user embedding path\n",
        "#user_input = tf.keras.Input(shape=[1],name=\"User-Input\")\n",
        "#user_embedding = tf.keras.layers.Embedding(vocabsize+1,4, name=\"User-Embedding\")(user_input)\n",
        "#user_vec = tf.keras.layers.Flatten(name=\"Flatten-Users\")(user_embedding)\n",
        "\n",
        "# performing dot product and creating model\n",
        "#prod = tf.keras.layers.Dot(axes=1)([item_vec, user_vec])\n",
        "#model = tf.keras.Model([user_input, item_input], prod)\n",
        "#model.compile('adam', 'mean_squared_error')"
      ],
      "execution_count": 0,
      "outputs": []
    },
    {
      "cell_type": "code",
      "metadata": {
        "scrolled": true,
        "id": "_F90xI5Lr_uQ",
        "colab_type": "code",
        "colab": {}
      },
      "source": [
        "#from keras.models import load_model\n",
        "\n",
        "#if os.path.exists('/content/drive/My Drive/Colab Notebooks/Models/dotProductModel.h5'):\n",
        "    #model = tf.keras.models.load_model('/content/drive/My Drive/Colab Notebooks/Models/dotProductModel.h5')\n",
        "#else:\n",
        "   # history = model.fit([train.userid, train.itemid], train.behavior, epochs=5, verbose=1)\n",
        "   # model.save('/content/drive/My Drive/Colab Notebooks/Models/dotProductModel.h5')\n",
        "   # plt.plot(history.history['loss'])\n",
        "   # plt.xlabel(\"Epochs\")\n",
        "   # plt.ylabel(\"Training Error\")"
      ],
      "execution_count": 0,
      "outputs": []
    },
    {
      "cell_type": "code",
      "metadata": {
        "id": "e-HnOIY6r_vc",
        "colab_type": "code",
        "colab": {}
      },
      "source": [
        "#model.evaluate([test.userid, test.itemid], test.behavior)"
      ],
      "execution_count": 0,
      "outputs": []
    },
    {
      "cell_type": "code",
      "metadata": {
        "id": "wy0oTsxfr_v9",
        "colab_type": "code",
        "colab": {}
      },
      "source": [
        "#predictions = model.predict([test.userid.head(10), test.itemid.head(10)])\n",
        "\n",
        "#[print(predictions[i], test.behavior.iloc[i]) for i in range(0,10)]"
      ],
      "execution_count": 0,
      "outputs": []
    },
    {
      "cell_type": "markdown",
      "metadata": {
        "id": "jhIzxcB1r_wj",
        "colab_type": "text"
      },
      "source": [
        "## Creating Neural Network\n",
        "Neural Networks proved there effectivness for almost every machine learning problem as of now and they also perform exceptionally well for recommendation systems."
      ]
    },
    {
      "cell_type": "code",
      "metadata": {
        "id": "UseHsssZr_w0",
        "colab_type": "code",
        "colab": {}
      },
      "source": [
        "# creating book embedding path\n",
        "item_input = tf.keras.Input(shape=[1], name=\"Item-Input\")\n",
        "item_embedding = tf.keras.layers.Embedding(vocabsize+1, 5, name=\"Item-Embedding\")(item_input)\n",
        "item_vec = tf.keras.layers.Flatten(name=\"Flatten-Items\")(item_embedding)\n",
        "\n",
        "# creating user embedding path\n",
        "user_input = tf.keras.Input(shape=[1], name=\"User-Input\")\n",
        "user_embedding = tf.keras.layers.Embedding(vocabsize+1, 5, name=\"User-Embedding\")(user_input)\n",
        "user_vec = tf.keras.layers.Flatten(name=\"Flatten-Users\")(user_embedding)\n",
        "\n",
        "# concatenate features\n",
        "conc = tf.keras.layers.Concatenate()([item_vec, user_vec])\n",
        "\n",
        "# add fully-connected-layers\n",
        "fc1 = tf.keras.layers.Dense(128, activation='relu')(conc)\n",
        "fc2 = tf.keras.layers.Dense(32, activation='relu')(fc1)\n",
        "out = tf.keras.layers.Dense(1)(fc2)\n",
        "\n",
        "# Create model and compile it\n",
        "model2 = tf.keras.Model([user_input, item_input], out)\n",
        "model2.compile('adam', 'mean_squared_error')"
      ],
      "execution_count": 0,
      "outputs": []
    },
    {
      "cell_type": "code",
      "metadata": {
        "id": "n1mlSPpdsAFJ",
        "colab_type": "code",
        "colab": {}
      },
      "source": [
        "from keras.models import load_model\n",
        "\n",
        "if os.path.exists('/content/drive/My Drive/Colab Notebooks/Models/NeuralNetworkModel_withName_inLayer.h5'):\n",
        "    model2 = tf.keras.models.load_model('/content/drive/My Drive/Colab Notebooks/Models/NeuralNetworkModel_withName_inLayer.h5',compile=True)\n",
        "else:\n",
        "    history = model2.fit([train.userid, train.itemid], train.behavior, epochs=5, verbose=1)\n",
        "    model2.save('/content/drive/My Drive/Colab Notebooks/Models/NeuralNetworkModel_withName_inLayer.h5')\n",
        "    plt.plot(history.history['loss'])\n",
        "    plt.xlabel(\"Epochs\")\n",
        "    plt.ylabel(\"Training Error\")"
      ],
      "execution_count": 0,
      "outputs": []
    },
    {
      "cell_type": "code",
      "metadata": {
        "id": "hRJvh6n2sASL",
        "colab_type": "code",
        "colab": {
          "base_uri": "https://localhost:8080/",
          "height": 53
        },
        "outputId": "621e9d67-04b4-43d4-815f-88dc442f424e"
      },
      "source": [
        "model2.evaluate([test.userid, test.itemid], test.behavior)"
      ],
      "execution_count": 28,
      "outputs": [
        {
          "output_type": "stream",
          "text": [
            "2190/2190 [==============================] - 0s 175us/sample - loss: 0.5117\n"
          ],
          "name": "stdout"
        },
        {
          "output_type": "execute_result",
          "data": {
            "text/plain": [
              "0.5117225947445386"
            ]
          },
          "metadata": {
            "tags": []
          },
          "execution_count": 28
        }
      ]
    },
    {
      "cell_type": "code",
      "metadata": {
        "id": "D4lw8pd3sAfd",
        "colab_type": "code",
        "colab": {
          "base_uri": "https://localhost:8080/",
          "height": 215
        },
        "outputId": "6075c373-1f9d-49c6-faa9-dd650dfa427d"
      },
      "source": [
        "predictions = model2.predict([test.userid.head(10), test.itemid.head(10)])\n",
        "\n",
        "[print(predictions[i], test.behavior.iloc[i]) for i in range(0,10)]"
      ],
      "execution_count": 29,
      "outputs": [
        {
          "output_type": "stream",
          "text": [
            "[1.0704815] 1\n",
            "[1.8095574] 2\n",
            "[1.0965444] 1\n",
            "[1.6173295] 1\n",
            "[1.0293572] 1\n",
            "[1.3543851] 1\n",
            "[1.950447] 3\n",
            "[1.1872991] 1\n",
            "[1.8023701] 1\n",
            "[1.0309834] 1\n"
          ],
          "name": "stdout"
        },
        {
          "output_type": "execute_result",
          "data": {
            "text/plain": [
              "[None, None, None, None, None, None, None, None, None, None]"
            ]
          },
          "metadata": {
            "tags": []
          },
          "execution_count": 29
        }
      ]
    },
    {
      "cell_type": "markdown",
      "metadata": {
        "id": "h928B-kIsAgF",
        "colab_type": "text"
      },
      "source": [
        "## Visualizing Embeddings\n",
        "Embeddings are weights that are learned to represent some specific variable like books and user in our case and therefore we can not only use them to get good results on our problem but also to extract inside about our data."
      ]
    },
    {
      "cell_type": "code",
      "metadata": {
        "id": "bbh02ke9sAhT",
        "colab_type": "code",
        "colab": {}
      },
      "source": [
        "# Extract embeddings\n",
        "#item_em = model2.get_layer('Item-Embedding')\n",
        "#item_em_weights = item_em.get_weights()[0]"
      ],
      "execution_count": 0,
      "outputs": []
    },
    {
      "cell_type": "code",
      "metadata": {
        "id": "W7nsOLK5sAhx",
        "colab_type": "code",
        "colab": {}
      },
      "source": [
        "#item_em_weights[:5]"
      ],
      "execution_count": 0,
      "outputs": []
    },
    {
      "cell_type": "code",
      "metadata": {
        "id": "rOkBarDGsAql",
        "colab_type": "code",
        "colab": {}
      },
      "source": [
        "#from sklearn.manifold import TSNE\n",
        "\n",
        "#tsne = TSNE(n_components=2, verbose=1, perplexity=4, n_iter=250)\n",
        "#tnse_results = tsne.fit_transform(item_em_weights)"
      ],
      "execution_count": 0,
      "outputs": []
    },
    {
      "cell_type": "code",
      "metadata": {
        "id": "BfpHIH3bsAjZ",
        "colab_type": "code",
        "colab": {}
      },
      "source": [
        "#from sklearn.decomposition import PCA\n",
        "#import seaborn as sns\n",
        "\n",
        "#pca = PCA(n_components=2)\n",
        "#pca_result = pca.fit_transform(item_em_weights)\n",
        "#sns.scatterplot(x=pca_result[:,0], y=pca_result[:,1])"
      ],
      "execution_count": 0,
      "outputs": []
    },
    {
      "cell_type": "code",
      "metadata": {
        "id": "ZbppjfvHsAkp",
        "colab_type": "code",
        "colab": {}
      },
      "source": [
        "#item_em_weights = item_em_weights / np.linalg.norm(item_em_weights, axis = 1).reshape((-1, 1))\n",
        "#item_em_weights[0][:10]\n",
        "#np.sum(np.square(item_em_weights[0]))"
      ],
      "execution_count": 0,
      "outputs": []
    },
    {
      "cell_type": "code",
      "metadata": {
        "id": "AMvzbqResAng",
        "colab_type": "code",
        "colab": {}
      },
      "source": [
        "#pca = PCA(n_components=2)\n",
        "#pca_result = pca.fit_transform(item_em_weights)\n",
        "#sns.scatterplot(x=pca_result[:,0], y=pca_result[:,1])"
      ],
      "execution_count": 0,
      "outputs": []
    },
    {
      "cell_type": "code",
      "metadata": {
        "id": "HDxyiPqFsArb",
        "colab_type": "code",
        "colab": {}
      },
      "source": [
        "#sns.scatterplot(x=tnse_results[:,0], y=tnse_results[:,1])"
      ],
      "execution_count": 0,
      "outputs": []
    },
    {
      "cell_type": "markdown",
      "metadata": {
        "id": "tNyp1SwtsAtL",
        "colab_type": "text"
      },
      "source": [
        "## Making Recommendations"
      ]
    },
    {
      "cell_type": "code",
      "metadata": {
        "id": "6XeiFu5AsAtS",
        "colab_type": "code",
        "colab": {
          "base_uri": "https://localhost:8080/",
          "height": 35
        },
        "outputId": "e82df6f3-7790-4672-cf3a-3a6d098bc325"
      },
      "source": [
        "# Creating dataset for making recommendations for the first user\n",
        "item_data = np.array(list(set(dataset.itemid)))\n",
        "item_data[:5]"
      ],
      "execution_count": 37,
      "outputs": [
        {
          "output_type": "execute_result",
          "data": {
            "text/plain": [
              "array([1, 3, 4, 5, 6])"
            ]
          },
          "metadata": {
            "tags": []
          },
          "execution_count": 37
        }
      ]
    },
    {
      "cell_type": "code",
      "metadata": {
        "id": "Gt6otg62sAum",
        "colab_type": "code",
        "colab": {
          "base_uri": "https://localhost:8080/",
          "height": 35
        },
        "outputId": "a3e31c0d-8ba8-4b36-e68b-60e28bae5de4"
      },
      "source": [
        "user = np.array([1 for i in range(len(item_data))])\n",
        "user[:5]"
      ],
      "execution_count": 38,
      "outputs": [
        {
          "output_type": "execute_result",
          "data": {
            "text/plain": [
              "array([1, 1, 1, 1, 1])"
            ]
          },
          "metadata": {
            "tags": []
          },
          "execution_count": 38
        }
      ]
    },
    {
      "cell_type": "code",
      "metadata": {
        "id": "C9Fu6HJBsAvp",
        "colab_type": "code",
        "colab": {
          "base_uri": "https://localhost:8080/",
          "height": 35
        },
        "outputId": "4a14ea2b-d923-438b-d2e5-5d4ae292dd30"
      },
      "source": [
        "predictions = model2.predict([user, item_data])\n",
        "\n",
        "predictions = np.array([a[0] for a in predictions])\n",
        "\n",
        "recommended_item_ids = (-predictions).argsort()[:5]\n",
        "\n",
        "recommended_item_ids"
      ],
      "execution_count": 39,
      "outputs": [
        {
          "output_type": "execute_result",
          "data": {
            "text/plain": [
              "array([1809, 6097, 1312, 4272, 4089])"
            ]
          },
          "metadata": {
            "tags": []
          },
          "execution_count": 39
        }
      ]
    },
    {
      "cell_type": "code",
      "metadata": {
        "id": "VySP9gQ4sAws",
        "colab_type": "code",
        "colab": {
          "base_uri": "https://localhost:8080/",
          "height": 53
        },
        "outputId": "31815f8e-5fdd-4803-9702-63edc0f9b51b"
      },
      "source": [
        "# print predicted scores\n",
        "predictions[recommended_item_ids]"
      ],
      "execution_count": 40,
      "outputs": [
        {
          "output_type": "execute_result",
          "data": {
            "text/plain": [
              "array([2.8701148, 2.6623483, 2.5920224, 2.5450172, 2.5194702],\n",
              "      dtype=float32)"
            ]
          },
          "metadata": {
            "tags": []
          },
          "execution_count": 40
        }
      ]
    },
    {
      "cell_type": "code",
      "metadata": {
        "id": "7Avxh5KXsAxV",
        "colab_type": "code",
        "colab": {
          "base_uri": "https://localhost:8080/",
          "height": 204
        },
        "outputId": "480b04f9-b61f-43a3-948c-86e90fb9bde1"
      },
      "source": [
        "items = pd.read_csv(\"/content/drive/My Drive/Colab Notebooks/TAOBAO_user_behavior_dataset/UserBehavior.csv\",sep=',',header=None,names=['userid','itemid','categoryid','behavior','timestamp'])\n",
        "items.head()"
      ],
      "execution_count": 49,
      "outputs": [
        {
          "output_type": "execute_result",
          "data": {
            "text/html": [
              "<div>\n",
              "<style scoped>\n",
              "    .dataframe tbody tr th:only-of-type {\n",
              "        vertical-align: middle;\n",
              "    }\n",
              "\n",
              "    .dataframe tbody tr th {\n",
              "        vertical-align: top;\n",
              "    }\n",
              "\n",
              "    .dataframe thead th {\n",
              "        text-align: right;\n",
              "    }\n",
              "</style>\n",
              "<table border=\"1\" class=\"dataframe\">\n",
              "  <thead>\n",
              "    <tr style=\"text-align: right;\">\n",
              "      <th></th>\n",
              "      <th>userid</th>\n",
              "      <th>itemid</th>\n",
              "      <th>categoryid</th>\n",
              "      <th>behavior</th>\n",
              "      <th>timestamp</th>\n",
              "    </tr>\n",
              "  </thead>\n",
              "  <tbody>\n",
              "    <tr>\n",
              "      <th>0</th>\n",
              "      <td>1</td>\n",
              "      <td>2268318</td>\n",
              "      <td>2520377</td>\n",
              "      <td>pv</td>\n",
              "      <td>1511544070</td>\n",
              "    </tr>\n",
              "    <tr>\n",
              "      <th>1</th>\n",
              "      <td>1</td>\n",
              "      <td>2333346</td>\n",
              "      <td>2520771</td>\n",
              "      <td>pv</td>\n",
              "      <td>1511561733</td>\n",
              "    </tr>\n",
              "    <tr>\n",
              "      <th>2</th>\n",
              "      <td>1</td>\n",
              "      <td>2576651</td>\n",
              "      <td>149192</td>\n",
              "      <td>pv</td>\n",
              "      <td>1511572885</td>\n",
              "    </tr>\n",
              "    <tr>\n",
              "      <th>3</th>\n",
              "      <td>1</td>\n",
              "      <td>3830808</td>\n",
              "      <td>4181361</td>\n",
              "      <td>pv</td>\n",
              "      <td>1511593493</td>\n",
              "    </tr>\n",
              "    <tr>\n",
              "      <th>4</th>\n",
              "      <td>1</td>\n",
              "      <td>4365585</td>\n",
              "      <td>2520377</td>\n",
              "      <td>pv</td>\n",
              "      <td>1511596146</td>\n",
              "    </tr>\n",
              "  </tbody>\n",
              "</table>\n",
              "</div>"
            ],
            "text/plain": [
              "   userid   itemid  categoryid behavior   timestamp\n",
              "0       1  2268318     2520377       pv  1511544070\n",
              "1       1  2333346     2520771       pv  1511561733\n",
              "2       1  2576651      149192       pv  1511572885\n",
              "3       1  3830808     4181361       pv  1511593493\n",
              "4       1  4365585     2520377       pv  1511596146"
            ]
          },
          "metadata": {
            "tags": []
          },
          "execution_count": 49
        }
      ]
    },
    {
      "cell_type": "code",
      "metadata": {
        "id": "5fJDdg9gLx0H",
        "colab_type": "code",
        "colab": {}
      },
      "source": [
        "items.drop('categoryid',axis=1,inplace=True)\n",
        "items.drop('userid',axis=1,inplace=True)\n",
        "items.drop('behavior',axis=1,inplace=True)\n",
        "items.drop('timestamp',axis=1,inplace=True)"
      ],
      "execution_count": 0,
      "outputs": []
    },
    {
      "cell_type": "code",
      "metadata": {
        "id": "3ddDm5N9LHpx",
        "colab_type": "code",
        "colab": {}
      },
      "source": [
        "items.drop(items[(items.itemid<100)].index, inplace=True)"
      ],
      "execution_count": 0,
      "outputs": []
    },
    {
      "cell_type": "code",
      "metadata": {
        "id": "BrMEcmOJOF3J",
        "colab_type": "code",
        "colab": {
          "base_uri": "https://localhost:8080/",
          "height": 204
        },
        "outputId": "840514ba-c163-43a4-f59f-69cc98d80012"
      },
      "source": [
        "items.head()"
      ],
      "execution_count": 53,
      "outputs": [
        {
          "output_type": "execute_result",
          "data": {
            "text/html": [
              "<div>\n",
              "<style scoped>\n",
              "    .dataframe tbody tr th:only-of-type {\n",
              "        vertical-align: middle;\n",
              "    }\n",
              "\n",
              "    .dataframe tbody tr th {\n",
              "        vertical-align: top;\n",
              "    }\n",
              "\n",
              "    .dataframe thead th {\n",
              "        text-align: right;\n",
              "    }\n",
              "</style>\n",
              "<table border=\"1\" class=\"dataframe\">\n",
              "  <thead>\n",
              "    <tr style=\"text-align: right;\">\n",
              "      <th></th>\n",
              "      <th>itemid</th>\n",
              "    </tr>\n",
              "  </thead>\n",
              "  <tbody>\n",
              "    <tr>\n",
              "      <th>0</th>\n",
              "      <td>2268318</td>\n",
              "    </tr>\n",
              "    <tr>\n",
              "      <th>1</th>\n",
              "      <td>2333346</td>\n",
              "    </tr>\n",
              "    <tr>\n",
              "      <th>2</th>\n",
              "      <td>2576651</td>\n",
              "    </tr>\n",
              "    <tr>\n",
              "      <th>3</th>\n",
              "      <td>3830808</td>\n",
              "    </tr>\n",
              "    <tr>\n",
              "      <th>4</th>\n",
              "      <td>4365585</td>\n",
              "    </tr>\n",
              "  </tbody>\n",
              "</table>\n",
              "</div>"
            ],
            "text/plain": [
              "    itemid\n",
              "0  2268318\n",
              "1  2333346\n",
              "2  2576651\n",
              "3  3830808\n",
              "4  4365585"
            ]
          },
          "metadata": {
            "tags": []
          },
          "execution_count": 53
        }
      ]
    },
    {
      "cell_type": "code",
      "metadata": {
        "id": "HCOz7ZojOJ9k",
        "colab_type": "code",
        "colab": {
          "base_uri": "https://localhost:8080/",
          "height": 204
        },
        "outputId": "e18b218e-36af-45e8-9f02-6395c40efee6"
      },
      "source": [
        "items.tail()"
      ],
      "execution_count": 55,
      "outputs": [
        {
          "output_type": "execute_result",
          "data": {
            "text/html": [
              "<div>\n",
              "<style scoped>\n",
              "    .dataframe tbody tr th:only-of-type {\n",
              "        vertical-align: middle;\n",
              "    }\n",
              "\n",
              "    .dataframe tbody tr th {\n",
              "        vertical-align: top;\n",
              "    }\n",
              "\n",
              "    .dataframe thead th {\n",
              "        text-align: right;\n",
              "    }\n",
              "</style>\n",
              "<table border=\"1\" class=\"dataframe\">\n",
              "  <thead>\n",
              "    <tr style=\"text-align: right;\">\n",
              "      <th></th>\n",
              "      <th>itemid</th>\n",
              "    </tr>\n",
              "  </thead>\n",
              "  <tbody>\n",
              "    <tr>\n",
              "      <th>100150802</th>\n",
              "      <td>4797808</td>\n",
              "    </tr>\n",
              "    <tr>\n",
              "      <th>100150803</th>\n",
              "      <td>4613472</td>\n",
              "    </tr>\n",
              "    <tr>\n",
              "      <th>100150804</th>\n",
              "      <td>3647364</td>\n",
              "    </tr>\n",
              "    <tr>\n",
              "      <th>100150805</th>\n",
              "      <td>1903801</td>\n",
              "    </tr>\n",
              "    <tr>\n",
              "      <th>100150806</th>\n",
              "      <td>3696094</td>\n",
              "    </tr>\n",
              "  </tbody>\n",
              "</table>\n",
              "</div>"
            ],
            "text/plain": [
              "            itemid\n",
              "100150802  4797808\n",
              "100150803  4613472\n",
              "100150804  3647364\n",
              "100150805  1903801\n",
              "100150806  3696094"
            ]
          },
          "metadata": {
            "tags": []
          },
          "execution_count": 55
        }
      ]
    },
    {
      "cell_type": "code",
      "metadata": {
        "id": "6khicaOssAy_",
        "colab_type": "code",
        "colab": {
          "base_uri": "https://localhost:8080/",
          "height": 419
        },
        "outputId": "b3b6ae78-fa7b-4d3f-bb1f-cd2387a60728"
      },
      "source": [
        "items[items['itemid'].isin(recommended_item_ids)]"
      ],
      "execution_count": 54,
      "outputs": [
        {
          "output_type": "execute_result",
          "data": {
            "text/html": [
              "<div>\n",
              "<style scoped>\n",
              "    .dataframe tbody tr th:only-of-type {\n",
              "        vertical-align: middle;\n",
              "    }\n",
              "\n",
              "    .dataframe tbody tr th {\n",
              "        vertical-align: top;\n",
              "    }\n",
              "\n",
              "    .dataframe thead th {\n",
              "        text-align: right;\n",
              "    }\n",
              "</style>\n",
              "<table border=\"1\" class=\"dataframe\">\n",
              "  <thead>\n",
              "    <tr style=\"text-align: right;\">\n",
              "      <th></th>\n",
              "      <th>itemid</th>\n",
              "    </tr>\n",
              "  </thead>\n",
              "  <tbody>\n",
              "    <tr>\n",
              "      <th>4441882</th>\n",
              "      <td>4272</td>\n",
              "    </tr>\n",
              "    <tr>\n",
              "      <th>6677194</th>\n",
              "      <td>4272</td>\n",
              "    </tr>\n",
              "    <tr>\n",
              "      <th>6677196</th>\n",
              "      <td>4272</td>\n",
              "    </tr>\n",
              "    <tr>\n",
              "      <th>7992980</th>\n",
              "      <td>4272</td>\n",
              "    </tr>\n",
              "    <tr>\n",
              "      <th>14029076</th>\n",
              "      <td>4272</td>\n",
              "    </tr>\n",
              "    <tr>\n",
              "      <th>...</th>\n",
              "      <td>...</td>\n",
              "    </tr>\n",
              "    <tr>\n",
              "      <th>88906115</th>\n",
              "      <td>1312</td>\n",
              "    </tr>\n",
              "    <tr>\n",
              "      <th>92082410</th>\n",
              "      <td>1312</td>\n",
              "    </tr>\n",
              "    <tr>\n",
              "      <th>92564700</th>\n",
              "      <td>6097</td>\n",
              "    </tr>\n",
              "    <tr>\n",
              "      <th>94392752</th>\n",
              "      <td>1312</td>\n",
              "    </tr>\n",
              "    <tr>\n",
              "      <th>97937598</th>\n",
              "      <td>6097</td>\n",
              "    </tr>\n",
              "  </tbody>\n",
              "</table>\n",
              "<p>64 rows × 1 columns</p>\n",
              "</div>"
            ],
            "text/plain": [
              "          itemid\n",
              "4441882     4272\n",
              "6677194     4272\n",
              "6677196     4272\n",
              "7992980     4272\n",
              "14029076    4272\n",
              "...          ...\n",
              "88906115    1312\n",
              "92082410    1312\n",
              "92564700    6097\n",
              "94392752    1312\n",
              "97937598    6097\n",
              "\n",
              "[64 rows x 1 columns]"
            ]
          },
          "metadata": {
            "tags": []
          },
          "execution_count": 54
        }
      ]
    }
  ]
}